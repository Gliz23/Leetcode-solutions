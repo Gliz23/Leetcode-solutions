{
 "cells": [
  {
   "cell_type": "markdown",
   "id": "3a867584-9c0e-4452-b8ba-6a10aadbbe2a",
   "metadata": {},
   "source": [
    "## Palindrone Leet code\n",
    "Given an integer x, return true if x is a \n",
    "palindrome\n",
    ", and false otherwise."
   ]
  },
  {
   "cell_type": "markdown",
   "id": "61ed2871-dac4-414b-ae5c-d62a66e959f7",
   "metadata": {},
   "source": [
    "### Idea\n",
    "Convert it to a string.\n",
    "Reverse the string and assign it a variable name.\n",
    "Check for equality. "
   ]
  },
  {
   "cell_type": "raw",
   "id": "3c3f0edf-694b-4fc7-818c-094aa58f4ea3",
   "metadata": {},
   "source": [
    "This was my pseudocode before learning the correct syntax.\n",
    "\n",
    "def palindrone(num):\n",
    "    num_str = str(num)\n",
    "    rev_num = reverse(num_str)\n",
    "    if num_str == rev_num:\n",
    "        return \"Palindrome\"\n",
    "    return \"Not a Palindrome\""
   ]
  },
  {
   "cell_type": "markdown",
   "id": "e870e245-8119-4c82-aafc-fac7ebceba9b",
   "metadata": {},
   "source": [
    "Correct syntax Learnt"
   ]
  },
  {
   "cell_type": "code",
   "execution_count": 4,
   "id": "1faa8d6d-debf-4b9c-aee6-1aa4346aaff0",
   "metadata": {},
   "outputs": [
    {
     "data": {
      "text/plain": [
       "'Not a Palindrome'"
      ]
     },
     "execution_count": 4,
     "metadata": {},
     "output_type": "execute_result"
    }
   ],
   "source": [
    "def palindrome(num):\n",
    "    num_str = str(num)\n",
    "    rev_num = num_str[::-1]\n",
    "    if num_str == rev_num:\n",
    "        return \"Palindrome\"\n",
    "    return \"Not a Palindrome\"\n",
    "\n",
    "pal_check = palindrome(1255421)\n",
    "pal_check"
   ]
  },
  {
   "cell_type": "markdown",
   "id": "551b5888-6686-4bf0-bf70-2d2c6b8914e7",
   "metadata": {},
   "source": [
    "Improved efficiency"
   ]
  },
  {
   "cell_type": "code",
   "execution_count": null,
   "id": "68f2de47-e1d9-4ed7-96d8-380f6a601cf7",
   "metadata": {},
   "outputs": [],
   "source": []
  }
 ],
 "metadata": {
  "kernelspec": {
   "display_name": "Python 3 (ipykernel)",
   "language": "python",
   "name": "python3"
  },
  "language_info": {
   "codemirror_mode": {
    "name": "ipython",
    "version": 3
   },
   "file_extension": ".py",
   "mimetype": "text/x-python",
   "name": "python",
   "nbconvert_exporter": "python",
   "pygments_lexer": "ipython3",
   "version": "3.9.13"
  }
 },
 "nbformat": 4,
 "nbformat_minor": 5
}
