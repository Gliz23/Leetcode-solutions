{
 "cells": [
  {
   "cell_type": "markdown",
   "id": "d2c71514-e858-4182-8975-a828b6114386",
   "metadata": {},
   "source": [
    "Given an array of integers nums and an integer target, return indices of the two numbers such that they add up to target.\n",
    "\n",
    "You may assume that each input would have exactly one solution, and you may not use the same element twice.\n",
    "\n",
    "You can return the answer in any order."
   ]
  },
  {
   "cell_type": "markdown",
   "id": "33b36dc0-4328-4436-8cd5-f36d26b75b1f",
   "metadata": {},
   "source": [
    "## Idea\n",
    "I have an array and a target. I would have to loop through the array for the first number and for each number, I would have to loop again for the second number. Double loop. Consider array name is (arr) and target is (tar).\n",
    "\n",
    "### Steps\n",
    "1. The first loop will represent each number in the array.\n",
    "   Corrected 1. We will pick the positions of the first number too.\n",
    "2. The second loop will represent each number after the first array.\n",
    "3. The second loop will also look for the positions of the numbers with a range and the index of the number.\n",
    "4. We will sum it and see if it is the same as the target if it is it will return a number. If not it will return number not found.\n"
   ]
  },
  {
   "cell_type": "code",
   "execution_count": 2,
   "id": "f1865b4b-c11e-4d37-bde4-576268f1ea9d",
   "metadata": {},
   "outputs": [],
   "source": [
    "## Pseudocode\n",
    "# for i in range(0, arr.length):\n",
    "#    for j in range(i, arr.length):\n",
    "#        if ( sum(arr[i] , arr[arr.j] ) == tar:\n",
    "#            return [arr[i].index, arr[j]]\n",
    "# return (\"Number not found\")"
   ]
  },
  {
   "cell_type": "code",
   "execution_count": 5,
   "id": "61bef9d1-43a6-4422-b48c-82e8f24fa59f",
   "metadata": {},
   "outputs": [
    {
     "name": "stdout",
     "output_type": "stream",
     "text": [
      "(0, 6)\n"
     ]
    }
   ],
   "source": [
    "# Actual code I learnt to edit the syntax of my pseudocode\n",
    "def find_two_sum(arr, tar):\n",
    "    for i in range(len(arr)):\n",
    "        for j in range(i+1, len(arr)):\n",
    "            if arr[i] + arr[j] == tar:\n",
    "                return i,j\n",
    "    return \"Number not found\"\n",
    "\n",
    "\n",
    "ans = find_two_sum([1,2,3,4,5,6,7,8], 8)\n",
    "print (ans)"
   ]
  },
  {
   "cell_type": "code",
   "execution_count": 18,
   "id": "b2b44170-9ebb-4ae4-9cf7-e78c54549de6",
   "metadata": {},
   "outputs": [
    {
     "data": {
      "text/plain": [
       "[0, 1]"
      ]
     },
     "execution_count": 18,
     "metadata": {},
     "output_type": "execute_result"
    }
   ],
   "source": [
    "# Improved version of the code I learnt\n",
    "\n",
    "def find_target_sum(arr, tar):\n",
    "    dict_num = {}\n",
    "    for index, num in enumerate(arr):\n",
    "        compliment = tar - num\n",
    "        if compliment in dict_num:\n",
    "            return [dict_num[compliment], index]\n",
    "        dict_num[num] = index\n",
    "    return \"Number not found\"\n",
    "\n",
    "ans = find_target_sum([3,6,4,2], 9)\n",
    "ans"
   ]
  },
  {
   "cell_type": "markdown",
   "id": "8d8b33a9-38b9-4851-aaa2-8c878636c530",
   "metadata": {},
   "source": [
   
   ]
  },
  {
   "cell_type": "markdown",
   "id": "0a0455eb-4790-4ed0-844d-d337063c1fb3",
   "metadata": {},
   "source": [
    "### Lessons on Range learned.\n",
    "1. In range, the first number is inclusive and the second number is exclusive.\n",
    "2. Specifying one number in the range function makes it automatically start from zero.\n",
    "3. The third number (optional) in the range function represents the step. Where the function hops in steps of that number."
   ]
  },
  {
   "cell_type": "code",
   "execution_count": null,
   "id": "41b45eab-9175-4fbb-85a8-454b6ee2ec70",
   "metadata": {},
   "outputs": [],
   "source": []
  }
 ],
 "metadata": {
  "kernelspec": {
   "display_name": "Python 3 (ipykernel)",
   "language": "python",
   "name": "python3"
  },
  "language_info": {
   "codemirror_mode": {
    "name": "ipython",
    "version": 3
   },
   "file_extension": ".py",
   "mimetype": "text/x-python",
   "name": "python",
   "nbconvert_exporter": "python",
   "pygments_lexer": "ipython3",
   "version": "3.9.13"
  }
 },
 "nbformat": 4,
 "nbformat_minor": 5
}
